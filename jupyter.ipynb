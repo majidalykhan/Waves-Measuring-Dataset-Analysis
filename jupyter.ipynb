{
 "nbformat": 4,
 "nbformat_minor": 2,
 "metadata": {
  "language_info": {
   "name": "python",
   "codemirror_mode": {
    "name": "ipython",
    "version": 3
   },
   "version": "3.7.4"
  },
  "orig_nbformat": 2,
  "file_extension": ".py",
  "mimetype": "text/x-python",
  "name": "python",
  "npconvert_exporter": "python",
  "pygments_lexer": "ipython3",
  "version": 3
 },
 "cells": [
  {
   "cell_type": "code",
   "execution_count": 12,
   "metadata": {},
   "outputs": [
    {
     "name": "stdout",
     "output_type": "stream",
     "text": "<class 'pandas.core.frame.DataFrame'>\nRangeIndex: 43728 entries, 0 to 43727\nData columns (total 12 columns):\ntime         43728 non-null datetime64[ns]\nHs           43728 non-null float64\nHmax         43728 non-null float64\nTz           43728 non-null float64\nTp           43728 non-null float64\ndirection    43728 non-null float64\ntemp         43728 non-null float64\nyear         43728 non-null int32\ntime1        43728 non-null object\nmonth        43728 non-null object\ndir          43728 non-null float64\ntemp1        43728 non-null float64\ndtypes: datetime64[ns](1), float64(8), int32(1), object(2)\nmemory usage: 3.8+ MB\n"
    },
    {
     "data": {
      "text/html": "<div>\n<style scoped>\n    .dataframe tbody tr th:only-of-type {\n        vertical-align: middle;\n    }\n\n    .dataframe tbody tr th {\n        vertical-align: top;\n    }\n\n    .dataframe thead th {\n        text-align: right;\n    }\n</style>\n<table border=\"1\" class=\"dataframe\">\n  <thead>\n    <tr style=\"text-align: right;\">\n      <th></th>\n      <th>time</th>\n      <th>Hs</th>\n      <th>Hmax</th>\n      <th>Tz</th>\n      <th>Tp</th>\n      <th>direction</th>\n      <th>temp</th>\n      <th>year</th>\n      <th>time1</th>\n      <th>month</th>\n      <th>dir</th>\n      <th>temp1</th>\n    </tr>\n  </thead>\n  <tbody>\n    <tr>\n      <td>1</td>\n      <td>2017-01-01 00:30:00</td>\n      <td>0.875</td>\n      <td>1.39</td>\n      <td>4.421</td>\n      <td>4.506</td>\n      <td>-99.9</td>\n      <td>-99.90</td>\n      <td>2017</td>\n      <td>00:30</td>\n      <td>01</td>\n      <td>-100.0</td>\n      <td>-100.0</td>\n    </tr>\n    <tr>\n      <td>2</td>\n      <td>2017-01-01 01:00:00</td>\n      <td>0.763</td>\n      <td>1.15</td>\n      <td>4.520</td>\n      <td>5.513</td>\n      <td>49.0</td>\n      <td>25.65</td>\n      <td>2017</td>\n      <td>01:00</td>\n      <td>01</td>\n      <td>40.0</td>\n      <td>25.0</td>\n    </tr>\n    <tr>\n      <td>3</td>\n      <td>2017-01-01 01:30:00</td>\n      <td>0.770</td>\n      <td>1.41</td>\n      <td>4.582</td>\n      <td>5.647</td>\n      <td>75.0</td>\n      <td>25.50</td>\n      <td>2017</td>\n      <td>01:30</td>\n      <td>01</td>\n      <td>70.0</td>\n      <td>25.0</td>\n    </tr>\n    <tr>\n      <td>4</td>\n      <td>2017-01-01 02:00:00</td>\n      <td>0.747</td>\n      <td>1.16</td>\n      <td>4.515</td>\n      <td>5.083</td>\n      <td>91.0</td>\n      <td>25.45</td>\n      <td>2017</td>\n      <td>02:00</td>\n      <td>01</td>\n      <td>90.0</td>\n      <td>25.0</td>\n    </tr>\n    <tr>\n      <td>5</td>\n      <td>2017-01-01 02:30:00</td>\n      <td>0.718</td>\n      <td>1.61</td>\n      <td>4.614</td>\n      <td>6.181</td>\n      <td>68.0</td>\n      <td>25.45</td>\n      <td>2017</td>\n      <td>02:30</td>\n      <td>01</td>\n      <td>60.0</td>\n      <td>25.0</td>\n    </tr>\n  </tbody>\n</table>\n</div>",
      "text/plain": "                 time     Hs  Hmax     Tz     Tp  direction   temp  year  \\\n1 2017-01-01 00:30:00  0.875  1.39  4.421  4.506      -99.9 -99.90  2017   \n2 2017-01-01 01:00:00  0.763  1.15  4.520  5.513       49.0  25.65  2017   \n3 2017-01-01 01:30:00  0.770  1.41  4.582  5.647       75.0  25.50  2017   \n4 2017-01-01 02:00:00  0.747  1.16  4.515  5.083       91.0  25.45  2017   \n5 2017-01-01 02:30:00  0.718  1.61  4.614  6.181       68.0  25.45  2017   \n\n   time1 month    dir  temp1  \n1  00:30    01 -100.0 -100.0  \n2  01:00    01   40.0   25.0  \n3  01:30    01   70.0   25.0  \n4  02:00    01   90.0   25.0  \n5  02:30    01   60.0   25.0  "
     },
     "execution_count": 12,
     "metadata": {},
     "output_type": "execute_result"
    }
   ],
   "source": [
    "import pandas as pd\n",
    "import numpy as n\n",
    "import seaborn as sns\n",
    "\n",
    "\n",
    "path = r'F:\\Bahria\\Study\\7\\DM\\Project\\Dataset\\Coastal Data System - Waves.csv'\n",
    "\n",
    "#Read csv\n",
    "waves = pd.read_csv(path)\n",
    "\n",
    "waves.columns = [\"time\", \"Hs\", \"Hmax\",\"Tz\",\"Tp\",\"direction\", \"temp\"]\n",
    "waves[\"time\"] = pd.to_datetime(waves[\"time\"])\n",
    "waves[\"year\"] = waves[\"time\"].astype(str).str[0:4]\n",
    "waves[\"year\"] = waves[\"year\"].astype(int)\n",
    "\n",
    "waves[\"time1\"] = waves[\"time\"].astype(str).str[11:16]\n",
    "waves[\"month\"] = waves[\"time\"].astype(str).str[5:7]\n",
    "\n",
    "#Floor(Round to .0) peak direction\n",
    "waves[\"dir\"] = 10* (waves[\"direction\"] // 10)\n",
    "\n",
    "#Floor(Round to .0) temperature\n",
    "waves[\"temp1\"] = (waves[\"temp\"] // 1)\n",
    "\n",
    "waves.info()\n",
    "waves = waves[waves.Hs > 0]\n",
    "waves.head()"
   ]
  },
  {
   "cell_type": "code",
   "execution_count": null,
   "metadata": {},
   "outputs": [],
   "source": []
  }
 ]
}